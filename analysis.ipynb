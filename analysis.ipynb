{
 "cells": [
  {
   "cell_type": "code",
   "execution_count": 2,
   "metadata": {},
   "outputs": [],
   "source": [
    "import pandas as pd\n",
    "import matplotlib.pyplot as plt\n",
    "import seaborn as sns\n",
    "import plotly.express as px"
   ]
  },
  {
   "cell_type": "code",
   "execution_count": 3,
   "metadata": {},
   "outputs": [],
   "source": [
    "df_demographic = pd.read_excel('./data/demographic.xlsx')"
   ]
  },
  {
   "cell_type": "code",
   "execution_count": 4,
   "metadata": {},
   "outputs": [],
   "source": [
    "df_demographic.rename(columns={'SEX':'Sex', 'Year Month':'Date'}, inplace=True)"
   ]
  },
  {
   "cell_type": "code",
   "execution_count": 5,
   "metadata": {},
   "outputs": [
    {
     "data": {
      "text/html": [
       "<div>\n",
       "<style scoped>\n",
       "    .dataframe tbody tr th:only-of-type {\n",
       "        vertical-align: middle;\n",
       "    }\n",
       "\n",
       "    .dataframe tbody tr th {\n",
       "        vertical-align: top;\n",
       "    }\n",
       "\n",
       "    .dataframe thead th {\n",
       "        text-align: right;\n",
       "    }\n",
       "</style>\n",
       "<table border=\"1\" class=\"dataframe\">\n",
       "  <thead>\n",
       "    <tr style=\"text-align: right;\">\n",
       "      <th></th>\n",
       "      <th>Age Group</th>\n",
       "      <th>Sex</th>\n",
       "      <th>ANZSOC Division</th>\n",
       "      <th>Ethnic Group</th>\n",
       "      <th>Person/Organisation</th>\n",
       "      <th>Date</th>\n",
       "      <th>Victimisations</th>\n",
       "    </tr>\n",
       "  </thead>\n",
       "  <tbody>\n",
       "    <tr>\n",
       "      <th>0</th>\n",
       "      <td>20-24</td>\n",
       "      <td>Female</td>\n",
       "      <td>Theft and Related Offences</td>\n",
       "      <td>European</td>\n",
       "      <td>Person</td>\n",
       "      <td>2018-06-01</td>\n",
       "      <td>6</td>\n",
       "    </tr>\n",
       "    <tr>\n",
       "      <th>1</th>\n",
       "      <td>25-29</td>\n",
       "      <td>Female</td>\n",
       "      <td>Theft and Related Offences</td>\n",
       "      <td>European</td>\n",
       "      <td>Person</td>\n",
       "      <td>2017-04-01</td>\n",
       "      <td>10</td>\n",
       "    </tr>\n",
       "    <tr>\n",
       "      <th>2</th>\n",
       "      <td>25-29</td>\n",
       "      <td>Female</td>\n",
       "      <td>Theft and Related Offences</td>\n",
       "      <td>European</td>\n",
       "      <td>Person</td>\n",
       "      <td>2017-05-01</td>\n",
       "      <td>3</td>\n",
       "    </tr>\n",
       "    <tr>\n",
       "      <th>3</th>\n",
       "      <td>25-29</td>\n",
       "      <td>Female</td>\n",
       "      <td>Theft and Related Offences</td>\n",
       "      <td>European</td>\n",
       "      <td>Person</td>\n",
       "      <td>2017-06-01</td>\n",
       "      <td>2</td>\n",
       "    </tr>\n",
       "    <tr>\n",
       "      <th>4</th>\n",
       "      <td>25-29</td>\n",
       "      <td>Female</td>\n",
       "      <td>Theft and Related Offences</td>\n",
       "      <td>European</td>\n",
       "      <td>Person</td>\n",
       "      <td>2017-09-01</td>\n",
       "      <td>6</td>\n",
       "    </tr>\n",
       "  </tbody>\n",
       "</table>\n",
       "</div>"
      ],
      "text/plain": [
       "  Age Group     Sex             ANZSOC Division Ethnic Group  \\\n",
       "0     20-24  Female  Theft and Related Offences     European   \n",
       "1     25-29  Female  Theft and Related Offences     European   \n",
       "2     25-29  Female  Theft and Related Offences     European   \n",
       "3     25-29  Female  Theft and Related Offences     European   \n",
       "4     25-29  Female  Theft and Related Offences     European   \n",
       "\n",
       "  Person/Organisation       Date  Victimisations  \n",
       "0              Person 2018-06-01               6  \n",
       "1              Person 2017-04-01              10  \n",
       "2              Person 2017-05-01               3  \n",
       "3              Person 2017-06-01               2  \n",
       "4              Person 2017-09-01               6  "
      ]
     },
     "execution_count": 5,
     "metadata": {},
     "output_type": "execute_result"
    }
   ],
   "source": [
    "df_demographic.head()"
   ]
  },
  {
   "cell_type": "code",
   "execution_count": 6,
   "metadata": {},
   "outputs": [],
   "source": [
    "df_demographic['Age Group'] = df_demographic['Age Group'].astype(str)"
   ]
  },
  {
   "cell_type": "code",
   "execution_count": 7,
   "metadata": {},
   "outputs": [],
   "source": [
    "df_demographic.loc[df_demographic['Age Group'] == '2023-10-14 00:00:00', 'Age Group'] = '10-14'\n",
    "df_demographic.loc[df_demographic['Age Group'] == '2023-05-09 00:00:00', 'Age Group'] = '05-09'\n",
    "df_demographic.loc[df_demographic['Age Group'] == '80yearsorover', 'Age Group'] = '80+'"
   ]
  },
  {
   "cell_type": "code",
   "execution_count": 9,
   "metadata": {},
   "outputs": [],
   "source": [
    "df_demographic.drop(df_demographic[df_demographic['Age Group'] == 'NotSpecified'].index, inplace = True)"
   ]
  },
  {
   "cell_type": "code",
   "execution_count": 10,
   "metadata": {},
   "outputs": [
    {
     "data": {
      "text/plain": [
       "array(['20-24', '25-29', '30-34', '35-39', '40-44', '45-49', '50-54',\n",
       "       '55-59', '60-64', '65-69', '70-74', '75-79', '80+', '15-19',\n",
       "       '05-09', '10-14', '0-4'], dtype=object)"
      ]
     },
     "execution_count": 10,
     "metadata": {},
     "output_type": "execute_result"
    }
   ],
   "source": [
    "df_demographic['Age Group'].unique()"
   ]
  },
  {
   "cell_type": "code",
   "execution_count": 11,
   "metadata": {},
   "outputs": [
    {
     "data": {
      "text/plain": [
       "<Axes: xlabel='Age Group'>"
      ]
     },
     "execution_count": 11,
     "metadata": {},
     "output_type": "execute_result"
    },
    {
     "data": {
      "image/png": "[encoded data removed]",
      "text/plain": [
       "<Figure size 640x480 with 1 Axes>"
      ]
     },
     "metadata": {},
     "output_type": "display_data"
    }
   ],
   "source": [
    "df_demographic['Age Group'].value_counts().sort_index().plot.bar()"
   ]
  },
  {
   "cell_type": "code",
   "execution_count": 12,
   "metadata": {},
   "outputs": [
    {
     "data": {
      "text/html": [
       "<div>\n",
       "<style scoped>\n",
       "    .dataframe tbody tr th:only-of-type {\n",
       "        vertical-align: middle;\n",
       "    }\n",
       "\n",
       "    .dataframe tbody tr th {\n",
       "        vertical-align: top;\n",
       "    }\n",
       "\n",
       "    .dataframe thead th {\n",
       "        text-align: right;\n",
       "    }\n",
       "</style>\n",
       "<table border=\"1\" class=\"dataframe\">\n",
       "  <thead>\n",
       "    <tr style=\"text-align: right;\">\n",
       "      <th></th>\n",
       "      <th>Age Group</th>\n",
       "      <th>Sex</th>\n",
       "      <th>ANZSOC Division</th>\n",
       "      <th>Ethnic Group</th>\n",
       "      <th>Person/Organisation</th>\n",
       "      <th>Date</th>\n",
       "      <th>Victimisations</th>\n",
       "    </tr>\n",
       "  </thead>\n",
       "  <tbody>\n",
       "    <tr>\n",
       "      <th>0</th>\n",
       "      <td>20-24</td>\n",
       "      <td>Female</td>\n",
       "      <td>Theft and Related Offences</td>\n",
       "      <td>European</td>\n",
       "      <td>Person</td>\n",
       "      <td>2018-06-01</td>\n",
       "      <td>6</td>\n",
       "    </tr>\n",
       "    <tr>\n",
       "      <th>1</th>\n",
       "      <td>25-29</td>\n",
       "      <td>Female</td>\n",
       "      <td>Theft and Related Offences</td>\n",
       "      <td>European</td>\n",
       "      <td>Person</td>\n",
       "      <td>2017-04-01</td>\n",
       "      <td>10</td>\n",
       "    </tr>\n",
       "    <tr>\n",
       "      <th>2</th>\n",
       "      <td>25-29</td>\n",
       "      <td>Female</td>\n",
       "      <td>Theft and Related Offences</td>\n",
       "      <td>European</td>\n",
       "      <td>Person</td>\n",
       "      <td>2017-05-01</td>\n",
       "      <td>3</td>\n",
       "    </tr>\n",
       "    <tr>\n",
       "      <th>3</th>\n",
       "      <td>25-29</td>\n",
       "      <td>Female</td>\n",
       "      <td>Theft and Related Offences</td>\n",
       "      <td>European</td>\n",
       "      <td>Person</td>\n",
       "      <td>2017-06-01</td>\n",
       "      <td>2</td>\n",
       "    </tr>\n",
       "    <tr>\n",
       "      <th>4</th>\n",
       "      <td>25-29</td>\n",
       "      <td>Female</td>\n",
       "      <td>Theft and Related Offences</td>\n",
       "      <td>European</td>\n",
       "      <td>Person</td>\n",
       "      <td>2017-09-01</td>\n",
       "      <td>6</td>\n",
       "    </tr>\n",
       "  </tbody>\n",
       "</table>\n",
       "</div>"
      ],
      "text/plain": [
       "  Age Group     Sex             ANZSOC Division Ethnic Group  \\\n",
       "0     20-24  Female  Theft and Related Offences     European   \n",
       "1     25-29  Female  Theft and Related Offences     European   \n",
       "2     25-29  Female  Theft and Related Offences     European   \n",
       "3     25-29  Female  Theft and Related Offences     European   \n",
       "4     25-29  Female  Theft and Related Offences     European   \n",
       "\n",
       "  Person/Organisation       Date  Victimisations  \n",
       "0              Person 2018-06-01               6  \n",
       "1              Person 2017-04-01              10  \n",
       "2              Person 2017-05-01               3  \n",
       "3              Person 2017-06-01               2  \n",
       "4              Person 2017-09-01               6  "
      ]
     },
     "execution_count": 12,
     "metadata": {},
     "output_type": "execute_result"
    }
   ],
   "source": [
    "df_demographic.head()"
   ]
  }
 ],
 "metadata": {
  "kernelspec": {
   "display_name": "Python 3",
   "language": "python",
   "name": "python3"
  },
  "language_info": {
   "codemirror_mode": {
    "name": "ipython",
    "version": 3
   },
   "file_extension": ".py",
   "mimetype": "text/x-python",
   "name": "python",
   "nbconvert_exporter": "python",
   "pygments_lexer": "ipython3",
   "version": "3.11.4"
  },
  "orig_nbformat": 4
 },
 "nbformat": 4,
 "nbformat_minor": 2
}
